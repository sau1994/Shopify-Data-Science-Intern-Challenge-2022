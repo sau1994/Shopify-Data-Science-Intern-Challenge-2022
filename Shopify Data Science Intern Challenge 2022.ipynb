{
 "cells": [
  {
   "cell_type": "markdown",
   "id": "084a82c7",
   "metadata": {},
   "source": [
    "### Question 1: Given some sample data, write a program to answer the following: click here to access the required data set\n",
    "### On Shopify, we have exactly 100 sneaker shops, and each of these shops sells only one model of shoe. We want to do some analysis of the average order value (AOV). When we look at orders data over a 30 day window, we naively calculate an AOV of USD 3145.13. Given that we know these shops are selling sneakers, a relatively affordable item, something seems wrong with our analysis."
   ]
  },
  {
   "cell_type": "markdown",
   "id": "205b8a2d",
   "metadata": {},
   "source": [
    "### a) Think about what could be going wrong with our calculation. Think about a better way to evaluate this data. \n"
   ]
  },
  {
   "cell_type": "code",
   "execution_count": 1,
   "id": "a9d3b17f",
   "metadata": {},
   "outputs": [],
   "source": [
    "import pandas as pd\n",
    "import numpy as np"
   ]
  },
  {
   "cell_type": "code",
   "execution_count": 6,
   "id": "ef48b481",
   "metadata": {},
   "outputs": [],
   "source": [
    "data = pd.read_csv(\"2019 Winter Data Science Intern Challenge Data Set.csv\")"
   ]
  },
  {
   "cell_type": "code",
   "execution_count": 14,
   "id": "73532397",
   "metadata": {},
   "outputs": [
    {
     "data": {
      "text/html": [
       "<div>\n",
       "<style scoped>\n",
       "    .dataframe tbody tr th:only-of-type {\n",
       "        vertical-align: middle;\n",
       "    }\n",
       "\n",
       "    .dataframe tbody tr th {\n",
       "        vertical-align: top;\n",
       "    }\n",
       "\n",
       "    .dataframe thead th {\n",
       "        text-align: right;\n",
       "    }\n",
       "</style>\n",
       "<table border=\"1\" class=\"dataframe\">\n",
       "  <thead>\n",
       "    <tr style=\"text-align: right;\">\n",
       "      <th></th>\n",
       "      <th>order_id</th>\n",
       "      <th>shop_id</th>\n",
       "      <th>user_id</th>\n",
       "      <th>order_amount</th>\n",
       "      <th>total_items</th>\n",
       "      <th>payment_method</th>\n",
       "      <th>created_at</th>\n",
       "    </tr>\n",
       "  </thead>\n",
       "  <tbody>\n",
       "    <tr>\n",
       "      <th>0</th>\n",
       "      <td>1</td>\n",
       "      <td>53</td>\n",
       "      <td>746</td>\n",
       "      <td>224</td>\n",
       "      <td>2</td>\n",
       "      <td>cash</td>\n",
       "      <td>3/13/2017 12:36</td>\n",
       "    </tr>\n",
       "    <tr>\n",
       "      <th>1</th>\n",
       "      <td>2</td>\n",
       "      <td>92</td>\n",
       "      <td>925</td>\n",
       "      <td>90</td>\n",
       "      <td>1</td>\n",
       "      <td>cash</td>\n",
       "      <td>3/3/2017 17:38</td>\n",
       "    </tr>\n",
       "    <tr>\n",
       "      <th>2</th>\n",
       "      <td>3</td>\n",
       "      <td>44</td>\n",
       "      <td>861</td>\n",
       "      <td>144</td>\n",
       "      <td>1</td>\n",
       "      <td>cash</td>\n",
       "      <td>3/14/2017 4:23</td>\n",
       "    </tr>\n",
       "    <tr>\n",
       "      <th>3</th>\n",
       "      <td>4</td>\n",
       "      <td>18</td>\n",
       "      <td>935</td>\n",
       "      <td>156</td>\n",
       "      <td>1</td>\n",
       "      <td>credit_card</td>\n",
       "      <td>3/26/2017 12:43</td>\n",
       "    </tr>\n",
       "    <tr>\n",
       "      <th>4</th>\n",
       "      <td>5</td>\n",
       "      <td>18</td>\n",
       "      <td>883</td>\n",
       "      <td>156</td>\n",
       "      <td>1</td>\n",
       "      <td>credit_card</td>\n",
       "      <td>3/1/2017 4:35</td>\n",
       "    </tr>\n",
       "  </tbody>\n",
       "</table>\n",
       "</div>"
      ],
      "text/plain": [
       "   order_id  shop_id  user_id  order_amount  total_items payment_method  \\\n",
       "0         1       53      746           224            2           cash   \n",
       "1         2       92      925            90            1           cash   \n",
       "2         3       44      861           144            1           cash   \n",
       "3         4       18      935           156            1    credit_card   \n",
       "4         5       18      883           156            1    credit_card   \n",
       "\n",
       "        created_at  \n",
       "0  3/13/2017 12:36  \n",
       "1   3/3/2017 17:38  \n",
       "2   3/14/2017 4:23  \n",
       "3  3/26/2017 12:43  \n",
       "4    3/1/2017 4:35  "
      ]
     },
     "execution_count": 14,
     "metadata": {},
     "output_type": "execute_result"
    }
   ],
   "source": [
    "data.head()"
   ]
  },
  {
   "cell_type": "code",
   "execution_count": 15,
   "id": "30c225c0",
   "metadata": {},
   "outputs": [
    {
     "data": {
      "text/plain": [
       "(5000, 7)"
      ]
     },
     "execution_count": 15,
     "metadata": {},
     "output_type": "execute_result"
    }
   ],
   "source": [
    "data.shape"
   ]
  },
  {
   "cell_type": "markdown",
   "id": "6f261fdf",
   "metadata": {},
   "source": [
    "When we think of 'Average' in Average Order Value (AOV), most of times we relate it to only one measure of central tendency ie is mean. But we also need to check for the other two - mean and mode. So let us check all the three in regards to this dataset"
   ]
  },
  {
   "cell_type": "code",
   "execution_count": 24,
   "id": "f1681799",
   "metadata": {},
   "outputs": [
    {
     "data": {
      "text/plain": [
       "3145.128"
      ]
     },
     "execution_count": 24,
     "metadata": {},
     "output_type": "execute_result"
    }
   ],
   "source": [
    "df = pd.DataFrame(data)\n",
    "\n",
    "df['order_amount'].mean()\n"
   ]
  },
  {
   "cell_type": "code",
   "execution_count": 25,
   "id": "55eaacb5",
   "metadata": {},
   "outputs": [
    {
     "data": {
      "text/plain": [
       "284.0"
      ]
     },
     "execution_count": 25,
     "metadata": {},
     "output_type": "execute_result"
    }
   ],
   "source": [
    "df['order_amount'].median()"
   ]
  },
  {
   "cell_type": "code",
   "execution_count": 26,
   "id": "401e6788",
   "metadata": {},
   "outputs": [
    {
     "data": {
      "text/plain": [
       "0    153\n",
       "dtype: int64"
      ]
     },
     "execution_count": 26,
     "metadata": {},
     "output_type": "execute_result"
    }
   ],
   "source": [
    "df['order_amount'].mode()"
   ]
  },
  {
   "cell_type": "code",
   "execution_count": 27,
   "id": "bf4a974a",
   "metadata": {},
   "outputs": [
    {
     "data": {
      "text/plain": [
       "count      5000.000000\n",
       "mean       3145.128000\n",
       "std       41282.539349\n",
       "min          90.000000\n",
       "25%         163.000000\n",
       "50%         284.000000\n",
       "75%         390.000000\n",
       "max      704000.000000\n",
       "Name: order_amount, dtype: float64"
      ]
     },
     "execution_count": 27,
     "metadata": {},
     "output_type": "execute_result"
    }
   ],
   "source": [
    "df['order_amount'].describe()"
   ]
  },
  {
   "cell_type": "markdown",
   "id": "ebdd8745",
   "metadata": {},
   "source": [
    "we can see from the above analysis that standard deviation is way to much from the mean. So we need to choose AOV using either median or mode."
   ]
  },
  {
   "cell_type": "markdown",
   "id": "8cd389af",
   "metadata": {},
   "source": [
    "### b. What metric would you report for this dataset?"
   ]
  },
  {
   "cell_type": "markdown",
   "id": "4851cf5d",
   "metadata": {},
   "source": [
    "As we saw the deviation is way to much in this dataset and the possible cause would be the outliers. In order to eliminate the influence of the outliers we need to go with <strong> the mode as a metric</strong>. Also, modal value represent the most frequent price of the shoes which says alot about the buyers buy most shoes at the modal price than other."
   ]
  },
  {
   "cell_type": "markdown",
   "id": "ce547836",
   "metadata": {},
   "source": [
    "### c. What is its value?"
   ]
  },
  {
   "cell_type": "markdown",
   "id": "e915371b",
   "metadata": {},
   "source": [
    "From the analysis in the part a) - <strong> Mode = 153 </strong>"
   ]
  },
  {
   "cell_type": "markdown",
   "id": "e142b874",
   "metadata": {},
   "source": [
    "### Question 2: For this question you’ll need to use SQL. Follow this link to access the data set required for the challenge. Please use queries to answer the following questions. Paste your queries along with your final numerical answers below."
   ]
  },
  {
   "cell_type": "markdown",
   "id": "f5bb9bed",
   "metadata": {},
   "source": [
    "### a) How many orders were shipped by Speedy Express in total?\n",
    "\n",
    "SELECT COUNT(DISTINCT Orders.OrderID) as Speedy_orders  \n",
    "FROM Orders  \n",
    "JOIN Shippers on Orders.ShipperID = Shippers.ShipperID  \n",
    "WHERE ShipperName = 'Speedy Express';  \n",
    "\n",
    "Output - <b> Speedy_orders 54 </b>"
   ]
  },
  {
   "cell_type": "markdown",
   "id": "65a29081",
   "metadata": {},
   "source": [
    "### b) What is the last name of the employee with the most orders?\n",
    "\n",
    "SELECT LastName, COUNT(DISTINCT OrderID) as No_of_Orders  \n",
    "FROM Orders  \n",
    "JOIN Employees USING(EmployeeID)  \n",
    "GROUP BY EmployeeID  \n",
    "ORDER BY No_of_Orders DESC  \n",
    "LIMIT 1  \n",
    "\n",
    "Output - <b> Peacock 40 </b>"
   ]
  },
  {
   "cell_type": "markdown",
   "id": "3886549c",
   "metadata": {},
   "source": [
    "### c) What product was ordered the most by customers in Germany?\n",
    "\n",
    "SELECT ProductName, SUM(Quantity) as ProductQuantity  \n",
    "FROM OrderDetails  \n",
    "JOIN Orders USING(OrderID)  \n",
    "JOIN Customers USING(CustomerID)  \n",
    "JOIN Products USING(ProductID)  \n",
    "WHERE Country = 'Germany'\n",
    "GROUP BY ProductID  \n",
    "ORDER BY ProductQuantity DESC  \n",
    "LIMIT 1  \n",
    "\n",
    "Output - <b> Boston Crab Meat 160 </b>"
   ]
  },
  {
   "cell_type": "code",
   "execution_count": null,
   "id": "2bdf6c3c",
   "metadata": {},
   "outputs": [],
   "source": []
  }
 ],
 "metadata": {
  "kernelspec": {
   "display_name": "Python 3 (ipykernel)",
   "language": "python",
   "name": "python3"
  },
  "language_info": {
   "codemirror_mode": {
    "name": "ipython",
    "version": 3
   },
   "file_extension": ".py",
   "mimetype": "text/x-python",
   "name": "python",
   "nbconvert_exporter": "python",
   "pygments_lexer": "ipython3",
   "version": "3.9.7"
  }
 },
 "nbformat": 4,
 "nbformat_minor": 5
}
